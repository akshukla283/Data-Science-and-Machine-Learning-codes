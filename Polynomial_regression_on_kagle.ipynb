{
 "cells": [
  {
   "cell_type": "code",
   "execution_count": 1,
   "metadata": {
    "_cell_guid": "b1076dfc-b9ad-4769-8c92-a6c4dae69d19",
    "_uuid": "8f2839f25d086af736a60e9eeb907d3b93b6e0e5",
    "execution": {
     "iopub.execute_input": "2021-11-15T05:00:37.829048Z",
     "iopub.status.busy": "2021-11-15T05:00:37.828056Z",
     "iopub.status.idle": "2021-11-15T05:00:37.864855Z",
     "shell.execute_reply": "2021-11-15T05:00:37.863873Z",
     "shell.execute_reply.started": "2021-11-15T05:00:37.828932Z"
    }
   },
   "outputs": [],
   "source": [
    "# This Python 3 environment comes with many helpful analytics libraries installed\n",
    "# It is defined by the kaggle/python Docker image: https://github.com/kaggle/docker-python\n",
    "# For example, here's several helpful packages to load\n",
    "\n",
    "import numpy as np # linear algebra\n",
    "import pandas as pd # data processing, CSV file I/O (e.g. pd.read_csv)\n",
    "\n",
    "# Input data files are available in the read-only \"../input/\" directory\n",
    "# For example, running this (by clicking run or pressing Shift+Enter) will list all files under the input directory\n",
    "\n",
    "# import os\n",
    "# for dirname, _, filenames in os.walk('/kaggle/input'):\n",
    "#     for filename in filenames:\n",
    "#         print(os.path.join(dirname, filename))\n",
    "\n",
    "# You can write up to 20GB to the current directory (/kaggle/working/) that gets preserved as output when you create a version using \"Save & Run All\" \n",
    "# You can also write temporary files to /kaggle/temp/, but they won't be saved outside of the current session"
   ]
  },
  {
   "cell_type": "code",
   "execution_count": 2,
   "metadata": {
    "execution": {
     "iopub.execute_input": "2021-11-15T05:02:36.755233Z",
     "iopub.status.busy": "2021-11-15T05:02:36.754858Z",
     "iopub.status.idle": "2021-11-15T05:02:37.766877Z",
     "shell.execute_reply": "2021-11-15T05:02:37.765992Z",
     "shell.execute_reply.started": "2021-11-15T05:02:36.755188Z"
    }
   },
   "outputs": [],
   "source": [
    "# Importing other necessary libraries \n",
    "import matplotlib.pyplot as plt\n",
    "import seaborn as sns"
   ]
  },
  {
   "cell_type": "code",
   "execution_count": 8,
   "metadata": {
    "execution": {
     "iopub.execute_input": "2021-11-15T05:04:05.810395Z",
     "iopub.status.busy": "2021-11-15T05:04:05.809365Z",
     "iopub.status.idle": "2021-11-15T05:04:05.845381Z",
     "shell.execute_reply": "2021-11-15T05:04:05.844625Z",
     "shell.execute_reply.started": "2021-11-15T05:04:05.810349Z"
    }
   },
   "outputs": [
    {
     "data": {
      "text/html": [
       "<div>\n",
       "<style scoped>\n",
       "    .dataframe tbody tr th:only-of-type {\n",
       "        vertical-align: middle;\n",
       "    }\n",
       "\n",
       "    .dataframe tbody tr th {\n",
       "        vertical-align: top;\n",
       "    }\n",
       "\n",
       "    .dataframe thead th {\n",
       "        text-align: right;\n",
       "    }\n",
       "</style>\n",
       "<table border=\"1\" class=\"dataframe\">\n",
       "  <thead>\n",
       "    <tr style=\"text-align: right;\">\n",
       "      <th></th>\n",
       "      <th>Position</th>\n",
       "      <th>Level</th>\n",
       "      <th>Salary</th>\n",
       "    </tr>\n",
       "  </thead>\n",
       "  <tbody>\n",
       "    <tr>\n",
       "      <th>0</th>\n",
       "      <td>Business Analyst</td>\n",
       "      <td>1</td>\n",
       "      <td>45000</td>\n",
       "    </tr>\n",
       "    <tr>\n",
       "      <th>1</th>\n",
       "      <td>Junior Consultant</td>\n",
       "      <td>2</td>\n",
       "      <td>50000</td>\n",
       "    </tr>\n",
       "    <tr>\n",
       "      <th>2</th>\n",
       "      <td>Senior Consultant</td>\n",
       "      <td>3</td>\n",
       "      <td>60000</td>\n",
       "    </tr>\n",
       "    <tr>\n",
       "      <th>3</th>\n",
       "      <td>Manager</td>\n",
       "      <td>4</td>\n",
       "      <td>80000</td>\n",
       "    </tr>\n",
       "    <tr>\n",
       "      <th>4</th>\n",
       "      <td>Country Manager</td>\n",
       "      <td>5</td>\n",
       "      <td>110000</td>\n",
       "    </tr>\n",
       "  </tbody>\n",
       "</table>\n",
       "</div>"
      ],
      "text/plain": [
       "            Position  Level  Salary\n",
       "0   Business Analyst      1   45000\n",
       "1  Junior Consultant      2   50000\n",
       "2  Senior Consultant      3   60000\n",
       "3            Manager      4   80000\n",
       "4    Country Manager      5  110000"
      ]
     },
     "execution_count": 8,
     "metadata": {},
     "output_type": "execute_result"
    }
   ],
   "source": [
    "# data link\n",
    "# https://www.kaggle.com/akram24/position-salaries?select=Position_Salaries.csv\n",
    "\n",
    "df = pd.read_csv(\"Position_Salaries.csv\")\n",
    "df.head()"
   ]
  },
  {
   "cell_type": "code",
   "execution_count": 9,
   "metadata": {
    "execution": {
     "iopub.execute_input": "2021-11-15T05:07:09.634036Z",
     "iopub.status.busy": "2021-11-15T05:07:09.633655Z",
     "iopub.status.idle": "2021-11-15T05:07:09.645264Z",
     "shell.execute_reply": "2021-11-15T05:07:09.644000Z",
     "shell.execute_reply.started": "2021-11-15T05:07:09.633996Z"
    }
   },
   "outputs": [
    {
     "data": {
      "text/plain": [
       "Position    0\n",
       "Level       0\n",
       "Salary      0\n",
       "dtype: int64"
      ]
     },
     "execution_count": 9,
     "metadata": {},
     "output_type": "execute_result"
    }
   ],
   "source": [
    "# checking for null value \n",
    "df.isnull().sum()"
   ]
  },
  {
   "cell_type": "code",
   "execution_count": 10,
   "metadata": {
    "execution": {
     "iopub.execute_input": "2021-11-15T05:09:53.451044Z",
     "iopub.status.busy": "2021-11-15T05:09:53.450652Z",
     "iopub.status.idle": "2021-11-15T05:09:53.609514Z",
     "shell.execute_reply": "2021-11-15T05:09:53.608482Z",
     "shell.execute_reply.started": "2021-11-15T05:09:53.451007Z"
    }
   },
   "outputs": [
    {
     "data": {
      "text/plain": [
       "<AxesSubplot:>"
      ]
     },
     "execution_count": 10,
     "metadata": {},
     "output_type": "execute_result"
    },
    {
     "data": {
      "image/png": "[encoded data removed]",
      "text/plain": [
       "<Figure size 432x288 with 1 Axes>"
      ]
     },
     "metadata": {
      "needs_background": "light"
     },
     "output_type": "display_data"
    }
   ],
   "source": [
    "# there is many more way of checking null vaules one of them is \n",
    "# If there will not be any vertical line in graph means no null null value\n",
    "import seaborn as sns\n",
    "sns.heatmap(df.isnull(),yticklabels = False, cbar = False, cmap = 'viridis')"
   ]
  },
  {
   "cell_type": "markdown",
   "metadata": {},
   "source": [
    "above graph we can see that there is not any line in graph i.e. no null value"
   ]
  },
  {
   "cell_type": "code",
   "execution_count": 11,
   "metadata": {
    "execution": {
     "iopub.execute_input": "2021-11-15T05:05:40.834586Z",
     "iopub.status.busy": "2021-11-15T05:05:40.834251Z",
     "iopub.status.idle": "2021-11-15T05:05:40.844187Z",
     "shell.execute_reply": "2021-11-15T05:05:40.842953Z",
     "shell.execute_reply.started": "2021-11-15T05:05:40.834545Z"
    }
   },
   "outputs": [],
   "source": [
    "# Splitting the data into dependen and independent variable\n",
    "X = df.iloc[:, 1:-1].values\n",
    "y = df.iloc[:, -1].values"
   ]
  },
  {
   "cell_type": "code",
   "execution_count": 12,
   "metadata": {
    "execution": {
     "iopub.execute_input": "2021-11-15T05:15:44.964263Z",
     "iopub.status.busy": "2021-11-15T05:15:44.963886Z",
     "iopub.status.idle": "2021-11-15T05:15:44.991577Z",
     "shell.execute_reply": "2021-11-15T05:15:44.989389Z",
     "shell.execute_reply.started": "2021-11-15T05:15:44.964224Z"
    }
   },
   "outputs": [
    {
     "data": {
      "text/plain": [
       "LinearRegression()"
      ]
     },
     "execution_count": 12,
     "metadata": {},
     "output_type": "execute_result"
    }
   ],
   "source": [
    "# Here not much data to split so we will train our model without splitting\n",
    "from sklearn.linear_model import LinearRegression\n",
    "model = LinearRegression()\n",
    "model.fit(X, y)"
   ]
  },
  {
   "cell_type": "code",
   "execution_count": 13,
   "metadata": {
    "execution": {
     "iopub.execute_input": "2021-11-15T05:25:10.413680Z",
     "iopub.status.busy": "2021-11-15T05:25:10.413190Z",
     "iopub.status.idle": "2021-11-15T05:25:10.421254Z",
     "shell.execute_reply": "2021-11-15T05:25:10.420028Z",
     "shell.execute_reply.started": "2021-11-15T05:25:10.413645Z"
    }
   },
   "outputs": [
    {
     "data": {
      "text/plain": [
       "array([-114454.54545455,  -33575.75757576,   47303.03030303,\n",
       "        128181.81818182,  209060.60606061])"
      ]
     },
     "execution_count": 13,
     "metadata": {},
     "output_type": "execute_result"
    }
   ],
   "source": [
    "# prediction \n",
    "y_pred = model.predict(X)\n",
    "y_pred[:5]"
   ]
  },
  {
   "cell_type": "code",
   "execution_count": 14,
   "metadata": {
    "execution": {
     "iopub.execute_input": "2021-11-15T05:33:56.934316Z",
     "iopub.status.busy": "2021-11-15T05:33:56.934058Z",
     "iopub.status.idle": "2021-11-15T05:33:56.943699Z",
     "shell.execute_reply": "2021-11-15T05:33:56.942370Z",
     "shell.execute_reply.started": "2021-11-15T05:33:56.934289Z"
    }
   },
   "outputs": [
    {
     "name": "stdout",
     "output_type": "stream",
     "text": [
      "RMSE value :  163388.73519272613\n",
      "R2 value :  -17322232852.151516\n"
     ]
    }
   ],
   "source": [
    "from sklearn.metrics import mean_squared_error, r2_score\n",
    "mse = mean_squared_error(y, y_pred)\n",
    "rmse = np.sqrt(mse)\n",
    "r2 = r2_score(X, y)\n",
    "\n",
    "print(\"RMSE value : \", rmse)\n",
    "print(\"R2 value : \", r2)"
   ]
  },
  {
   "cell_type": "code",
   "execution_count": 15,
   "metadata": {
    "execution": {
     "iopub.execute_input": "2021-11-15T05:30:09.992993Z",
     "iopub.status.busy": "2021-11-15T05:30:09.992620Z",
     "iopub.status.idle": "2021-11-15T05:30:10.238851Z",
     "shell.execute_reply": "2021-11-15T05:30:10.237980Z",
     "shell.execute_reply.started": "2021-11-15T05:30:09.992950Z"
    }
   },
   "outputs": [
    {
     "data": {
      "text/plain": [
       "Text(0, 0.5, 'Salary')"
      ]
     },
     "execution_count": 15,
     "metadata": {},
     "output_type": "execute_result"
    },
    {
     "data": {
      "image/png": "[encoded data removed]",
      "text/plain": [
       "<Figure size 432x288 with 1 Axes>"
      ]
     },
     "metadata": {
      "needs_background": "light"
     },
     "output_type": "display_data"
    }
   ],
   "source": [
    "# Visualising the Linear Regression\n",
    "plt.scatter(X,y, color = \"red\")\n",
    "plt.plot(X, model.predict(X), color= \"blue\")\n",
    "plt.title(\"Truth or Bluff(Linear Regression)\")\n",
    "plt.xlabel(\"Position Level\")\n",
    "plt.ylabel(\"Salary\")"
   ]
  },
  {
   "cell_type": "markdown",
   "metadata": {},
   "source": [
    "### fitting Polynomial Rgression to the training set "
   ]
  },
  {
   "cell_type": "code",
   "execution_count": 16,
   "metadata": {
    "execution": {
     "iopub.execute_input": "2021-11-15T05:21:49.334077Z",
     "iopub.status.busy": "2021-11-15T05:21:49.333772Z",
     "iopub.status.idle": "2021-11-15T05:21:49.340057Z",
     "shell.execute_reply": "2021-11-15T05:21:49.338970Z",
     "shell.execute_reply.started": "2021-11-15T05:21:49.334047Z"
    }
   },
   "outputs": [],
   "source": [
    "# fitting Polynomial Rgression to the training set \n",
    "\n",
    "from sklearn.preprocessing import PolynomialFeatures\n",
    "\n",
    "poly_model = PolynomialFeatures(degree=2)\n",
    "X_poly = poly_model.fit_transform(X)"
   ]
  },
  {
   "cell_type": "code",
   "execution_count": 17,
   "metadata": {
    "execution": {
     "iopub.execute_input": "2021-11-15T05:22:43.914395Z",
     "iopub.status.busy": "2021-11-15T05:22:43.914064Z",
     "iopub.status.idle": "2021-11-15T05:22:43.923132Z",
     "shell.execute_reply": "2021-11-15T05:22:43.922262Z",
     "shell.execute_reply.started": "2021-11-15T05:22:43.914362Z"
    }
   },
   "outputs": [
    {
     "data": {
      "text/plain": [
       "LinearRegression()"
      ]
     },
     "execution_count": 17,
     "metadata": {},
     "output_type": "execute_result"
    }
   ],
   "source": [
    "# for polynomial regression we need to  fit with linear regression once again\n",
    "lin_model = LinearRegression()\n",
    "lin_model.fit(X_poly, y)"
   ]
  },
  {
   "cell_type": "code",
   "execution_count": 18,
   "metadata": {
    "execution": {
     "iopub.execute_input": "2021-11-15T05:31:57.235810Z",
     "iopub.status.busy": "2021-11-15T05:31:57.235501Z",
     "iopub.status.idle": "2021-11-15T05:31:57.242340Z",
     "shell.execute_reply": "2021-11-15T05:31:57.241715Z",
     "shell.execute_reply.started": "2021-11-15T05:31:57.235779Z"
    }
   },
   "outputs": [
    {
     "data": {
      "text/plain": [
       "array([118727.27272727,  44151.51515151,   8439.39393939,  11590.90909091,\n",
       "        53606.06060606, 134484.84848485, 254227.27272727, 412833.33333333,\n",
       "       610303.03030303, 846636.36363636])"
      ]
     },
     "execution_count": 18,
     "metadata": {},
     "output_type": "execute_result"
    }
   ],
   "source": [
    "y_poly_pred1 = lin_model.predict(X_poly)\n",
    "y_poly_pred1"
   ]
  },
  {
   "cell_type": "code",
   "execution_count": 19,
   "metadata": {
    "execution": {
     "iopub.execute_input": "2021-11-15T05:35:10.831288Z",
     "iopub.status.busy": "2021-11-15T05:35:10.830992Z",
     "iopub.status.idle": "2021-11-15T05:35:10.838894Z",
     "shell.execute_reply": "2021-11-15T05:35:10.838240Z",
     "shell.execute_reply.started": "2021-11-15T05:35:10.831255Z"
    }
   },
   "outputs": [
    {
     "name": "stdout",
     "output_type": "stream",
     "text": [
      "RMSE value :  82212.12400451247\n",
      "R2 value :  0.9162082221443942\n"
     ]
    }
   ],
   "source": [
    "from sklearn.metrics import mean_squared_error, r2_score\n",
    "mse = mean_squared_error(y, y_poly_pred1)\n",
    "rmse = np.sqrt(mse)\n",
    "r2 = r2_score(y, y_poly_pred1)\n",
    "\n",
    "print(\"RMSE value : \", rmse)\n",
    "print(\"R2 value : \", r2)"
   ]
  },
  {
   "cell_type": "code",
   "execution_count": 20,
   "metadata": {
    "execution": {
     "iopub.execute_input": "2021-11-15T05:36:07.879029Z",
     "iopub.status.busy": "2021-11-15T05:36:07.878719Z",
     "iopub.status.idle": "2021-11-15T05:36:08.119271Z",
     "shell.execute_reply": "2021-11-15T05:36:08.118002Z",
     "shell.execute_reply.started": "2021-11-15T05:36:07.878999Z"
    }
   },
   "outputs": [
    {
     "data": {
      "text/plain": [
       "Text(0, 0.5, 'Salary')"
      ]
     },
     "execution_count": 20,
     "metadata": {},
     "output_type": "execute_result"
    },
    {
     "data": {
      "image/png": "[encoded data removed]",
      "text/plain": [
       "<Figure size 432x288 with 1 Axes>"
      ]
     },
     "metadata": {
      "needs_background": "light"
     },
     "output_type": "display_data"
    }
   ],
   "source": [
    "# Visualising the Polynomial Regression (degree = 2)\n",
    "plt.scatter(X,y, color = \"red\")\n",
    "plt.plot(X, lin_model.predict(poly_model.fit_transform(X)), color= \"blue\")\n",
    "plt.title(\"Truth or Bluff(Polynomial Regression)\")\n",
    "plt.xlabel(\"Position Level\")\n",
    "plt.ylabel(\"Salary\")"
   ]
  },
  {
   "cell_type": "markdown",
   "metadata": {},
   "source": [
    "### Increasing the degree to check optimal values"
   ]
  },
  {
   "cell_type": "code",
   "execution_count": 21,
   "metadata": {
    "execution": {
     "iopub.execute_input": "2021-11-15T05:42:11.850353Z",
     "iopub.status.busy": "2021-11-15T05:42:11.850075Z",
     "iopub.status.idle": "2021-11-15T05:42:11.862727Z",
     "shell.execute_reply": "2021-11-15T05:42:11.861823Z",
     "shell.execute_reply.started": "2021-11-15T05:42:11.850325Z"
    }
   },
   "outputs": [
    {
     "name": "stdout",
     "output_type": "stream",
     "text": [
      "RMSE value :  38931.50401232908\n",
      "R2 value :  0.9812097727913368\n"
     ]
    }
   ],
   "source": [
    "# fitting Polynomial Rgression to the training set \n",
    "\n",
    "from sklearn.preprocessing import PolynomialFeatures\n",
    "\n",
    "poly_model2 = PolynomialFeatures(degree=3)\n",
    "X_poly2 = poly_model2.fit_transform(X)\n",
    "\n",
    "# for polynomial regression we need to  fit with linear regression once again\n",
    "lin_model2 = LinearRegression()\n",
    "lin_model2.fit(X_poly2, y)\n",
    "\n",
    "\n",
    "y_poly_pred2 = lin_model2.predict(X_poly2)\n",
    "y_poly_pred2\n",
    "\n",
    "\n",
    "from sklearn.metrics import mean_squared_error, r2_score\n",
    "mse2 = mean_squared_error(y, y_poly_pred2)\n",
    "rmse2 = np.sqrt(mse2)\n",
    "r22 = r2_score(y, y_poly_pred2)\n",
    "\n",
    "print(\"RMSE value : \", rmse2)\n",
    "print(\"R2 value : \", r22)"
   ]
  },
  {
   "cell_type": "code",
   "execution_count": 22,
   "metadata": {
    "execution": {
     "iopub.execute_input": "2021-11-15T05:45:03.866198Z",
     "iopub.status.busy": "2021-11-15T05:45:03.865651Z",
     "iopub.status.idle": "2021-11-15T05:45:04.126510Z",
     "shell.execute_reply": "2021-11-15T05:45:04.125491Z",
     "shell.execute_reply.started": "2021-11-15T05:45:03.866154Z"
    }
   },
   "outputs": [
    {
     "data": {
      "text/plain": [
       "Text(0, 0.5, 'Salary')"
      ]
     },
     "execution_count": 22,
     "metadata": {},
     "output_type": "execute_result"
    },
    {
     "data": {
      "image/png": "[encoded data removed]",
      "text/plain": [
       "<Figure size 432x288 with 1 Axes>"
      ]
     },
     "metadata": {
      "needs_background": "light"
     },
     "output_type": "display_data"
    }
   ],
   "source": [
    "# Visualising the Polynomial Regression (degree = 3)\n",
    "plt.scatter(X,y, color = \"red\")\n",
    "plt.plot(X, y_poly_pred2, color= \"blue\")\n",
    "plt.title(\"Truth or Bluff(Polynomial Regression)\")\n",
    "plt.xlabel(\"Position Level\")\n",
    "plt.ylabel(\"Salary\")\n",
    "\n",
    "# y_poly_pred2 is same as lin_model2.predict(poly_model2.fit_transform(X))"
   ]
  },
  {
   "cell_type": "code",
   "execution_count": 23,
   "metadata": {
    "execution": {
     "iopub.execute_input": "2021-11-15T05:57:22.095656Z",
     "iopub.status.busy": "2021-11-15T05:57:22.095094Z",
     "iopub.status.idle": "2021-11-15T05:57:22.107924Z",
     "shell.execute_reply": "2021-11-15T05:57:22.107078Z",
     "shell.execute_reply.started": "2021-11-15T05:57:22.095605Z"
    }
   },
   "outputs": [
    {
     "name": "stdout",
     "output_type": "stream",
     "text": [
      "Predicted value :  [53356.64335675 31759.90675984]\n",
      "RMSE value :  14503.23490962699\n",
      "R2 value :  0.9973922891706614\n"
     ]
    }
   ],
   "source": [
    "# increasing the degree further \n",
    "\n",
    "# fitting Polynomial Rgression to the training set \n",
    "\n",
    "from sklearn.preprocessing import PolynomialFeatures\n",
    "\n",
    "poly_model3 = PolynomialFeatures(degree=4)\n",
    "X_poly3 = poly_model3.fit_transform(X)\n",
    "\n",
    "# for polynomial regression we need to  fit with linear regression once again\n",
    "lin_model3 = LinearRegression()\n",
    "lin_model3.fit(X_poly3, y)\n",
    "\n",
    "\n",
    "y_poly_pred3 = lin_model3.predict(X_poly3)\n",
    "y_poly_pred3\n",
    "\n",
    "\n",
    "from sklearn.metrics import mean_squared_error, r2_score\n",
    "mse3 = mean_squared_error(y, y_poly_pred3)\n",
    "rmse3 = np.sqrt(mse3)\n",
    "r23 = r2_score(y, y_poly_pred3)\n",
    "\n",
    "print(\"Predicted value : \",y_poly_pred3[:2] )\n",
    "print(\"RMSE value : \", rmse3)\n",
    "print(\"R2 value : \", r23)"
   ]
  },
  {
   "cell_type": "code",
   "execution_count": 24,
   "metadata": {
    "execution": {
     "iopub.execute_input": "2021-11-15T05:48:41.170892Z",
     "iopub.status.busy": "2021-11-15T05:48:41.170539Z",
     "iopub.status.idle": "2021-11-15T05:48:41.387374Z",
     "shell.execute_reply": "2021-11-15T05:48:41.386631Z",
     "shell.execute_reply.started": "2021-11-15T05:48:41.170846Z"
    }
   },
   "outputs": [
    {
     "data": {
      "text/plain": [
       "Text(0, 0.5, 'Salary')"
      ]
     },
     "execution_count": 24,
     "metadata": {},
     "output_type": "execute_result"
    },
    {
     "data": {
      "image/png": "[encoded data removed]",
      "text/plain": [
       "<Figure size 432x288 with 1 Axes>"
      ]
     },
     "metadata": {
      "needs_background": "light"
     },
     "output_type": "display_data"
    }
   ],
   "source": [
    "# Visualising the Polynomial Regression (degree = 4)\n",
    "plt.scatter(X,y, color = \"red\")\n",
    "plt.plot(X, y_poly_pred3, color= \"blue\")\n",
    "plt.title(\"Truth or Bluff(Polynomial Regression)\")\n",
    "plt.xlabel(\"Position Level\")\n",
    "plt.ylabel(\"Salary\")\n",
    "\n",
    "# y_poly_pred3 is same as lin_model3.predict(poly_model3.fit_transform(X))"
   ]
  },
  {
   "cell_type": "markdown",
   "metadata": {},
   "source": [
    "### Visualising the Polynomial Regression results (for higher resolution and smoother curve)"
   ]
  },
  {
   "cell_type": "code",
   "execution_count": 25,
   "metadata": {
    "execution": {
     "iopub.execute_input": "2021-11-15T05:51:14.189401Z",
     "iopub.status.busy": "2021-11-15T05:51:14.189088Z",
     "iopub.status.idle": "2021-11-15T05:51:14.198312Z",
     "shell.execute_reply": "2021-11-15T05:51:14.196995Z",
     "shell.execute_reply.started": "2021-11-15T05:51:14.189368Z"
    }
   },
   "outputs": [
    {
     "data": {
      "text/plain": [
       "array([1. , 1.1, 1.2, 1.3, 1.4, 1.5, 1.6, 1.7, 1.8, 1.9, 2. , 2.1, 2.2,\n",
       "       2.3, 2.4, 2.5, 2.6, 2.7, 2.8, 2.9, 3. , 3.1, 3.2, 3.3, 3.4, 3.5,\n",
       "       3.6, 3.7, 3.8, 3.9, 4. , 4.1, 4.2, 4.3, 4.4, 4.5, 4.6, 4.7, 4.8,\n",
       "       4.9, 5. , 5.1, 5.2, 5.3, 5.4, 5.5, 5.6, 5.7, 5.8, 5.9, 6. , 6.1,\n",
       "       6.2, 6.3, 6.4, 6.5, 6.6, 6.7, 6.8, 6.9, 7. , 7.1, 7.2, 7.3, 7.4,\n",
       "       7.5, 7.6, 7.7, 7.8, 7.9, 8. , 8.1, 8.2, 8.3, 8.4, 8.5, 8.6, 8.7,\n",
       "       8.8, 8.9, 9. , 9.1, 9.2, 9.3, 9.4, 9.5, 9.6, 9.7, 9.8, 9.9])"
      ]
     },
     "execution_count": 25,
     "metadata": {},
     "output_type": "execute_result"
    }
   ],
   "source": [
    "X_grid = np.arange(min(X), max(X), 0.1)\n",
    "X_grid"
   ]
  },
  {
   "cell_type": "code",
   "execution_count": 26,
   "metadata": {
    "execution": {
     "iopub.execute_input": "2021-11-15T05:52:00.122507Z",
     "iopub.status.busy": "2021-11-15T05:52:00.121317Z",
     "iopub.status.idle": "2021-11-15T05:52:00.130860Z",
     "shell.execute_reply": "2021-11-15T05:52:00.130056Z",
     "shell.execute_reply.started": "2021-11-15T05:52:00.122442Z"
    }
   },
   "outputs": [
    {
     "data": {
      "text/plain": [
       "array([[1. ],\n",
       "       [1.1],\n",
       "       [1.2],\n",
       "       [1.3],\n",
       "       [1.4]])"
      ]
     },
     "execution_count": 26,
     "metadata": {},
     "output_type": "execute_result"
    }
   ],
   "source": [
    "# reshape the grid \n",
    "X_grid = X_grid.reshape((len(X_grid), 1))\n",
    "X_grid[:5]"
   ]
  },
  {
   "cell_type": "code",
   "execution_count": 27,
   "metadata": {
    "execution": {
     "iopub.execute_input": "2021-11-15T05:54:35.550480Z",
     "iopub.status.busy": "2021-11-15T05:54:35.550184Z",
     "iopub.status.idle": "2021-11-15T05:54:35.721251Z",
     "shell.execute_reply": "2021-11-15T05:54:35.720437Z",
     "shell.execute_reply.started": "2021-11-15T05:54:35.550448Z"
    }
   },
   "outputs": [
    {
     "data": {
      "image/png": "[encoded data removed]",
      "text/plain": [
       "<Figure size 432x288 with 1 Axes>"
      ]
     },
     "metadata": {
      "needs_background": "light"
     },
     "output_type": "display_data"
    }
   ],
   "source": [
    "X_grid = np.arange(min(X), max(X), 0.1)\n",
    "X_grid = X_grid.reshape((len(X_grid), 1))\n",
    "plt.scatter(X, y, color = 'red')\n",
    "plt.plot(X_grid, lin_model3.predict(poly_model3.fit_transform(X_grid)), color = 'blue')\n",
    "plt.title('Truth or Bluff (Polynomial Regression)')\n",
    "plt.xlabel('Position level')\n",
    "plt.ylabel('Salary')\n",
    "plt.show()"
   ]
  },
  {
   "cell_type": "markdown",
   "metadata": {},
   "source": [
    "### above curve is much smoother than normal polynomial curve"
   ]
  },
  {
   "cell_type": "code",
   "execution_count": 28,
   "metadata": {
    "execution": {
     "iopub.execute_input": "2021-11-15T06:00:41.616207Z",
     "iopub.status.busy": "2021-11-15T06:00:41.615651Z",
     "iopub.status.idle": "2021-11-15T06:00:41.629402Z",
     "shell.execute_reply": "2021-11-15T06:00:41.628038Z",
     "shell.execute_reply.started": "2021-11-15T06:00:41.616168Z"
    }
   },
   "outputs": [
    {
     "name": "stdout",
     "output_type": "stream",
     "text": [
      "Predicted value :  [43895.104896   53836.82983717]\n",
      "RMSE value :  4047.5034752660945\n",
      "R2 value :  0.9997969027099753\n"
     ]
    }
   ],
   "source": [
    "# Increaseing  degree \n",
    "\n",
    "# fitting Polynomial Rgression to the training set \n",
    "\n",
    "from sklearn.preprocessing import PolynomialFeatures\n",
    "\n",
    "poly_model4 = PolynomialFeatures(degree=5)\n",
    "X_poly4 = poly_model4.fit_transform(X)\n",
    "\n",
    "# for polynomial regression we need to  fit with linear regression once again\n",
    "lin_model4 = LinearRegression()\n",
    "lin_model4.fit(X_poly4, y)\n",
    "\n",
    "\n",
    "y_poly_pred4 = lin_model4.predict(X_poly4)\n",
    "y_poly_pred4\n",
    "\n",
    "\n",
    "from sklearn.metrics import mean_squared_error, r2_score\n",
    "mse4 = mean_squared_error(y, y_poly_pred4)\n",
    "rmse4 = np.sqrt(mse4)\n",
    "r24 = r2_score(y, y_poly_pred4)\n",
    "\n",
    "print(\"Predicted value : \",y_poly_pred4[:2] )\n",
    "print(\"RMSE value : \", rmse4)\n",
    "print(\"R2 value : \", r24)"
   ]
  },
  {
   "cell_type": "code",
   "execution_count": 29,
   "metadata": {
    "execution": {
     "iopub.execute_input": "2021-11-15T06:01:17.375861Z",
     "iopub.status.busy": "2021-11-15T06:01:17.375044Z",
     "iopub.status.idle": "2021-11-15T06:01:17.538727Z",
     "shell.execute_reply": "2021-11-15T06:01:17.538099Z",
     "shell.execute_reply.started": "2021-11-15T06:01:17.375814Z"
    }
   },
   "outputs": [
    {
     "data": {
      "image/png": "[encoded data removed]",
      "text/plain": [
       "<Figure size 432x288 with 1 Axes>"
      ]
     },
     "metadata": {
      "needs_background": "light"
     },
     "output_type": "display_data"
    }
   ],
   "source": [
    "X_grid = np.arange(min(X), max(X), 0.1)\n",
    "X_grid = X_grid.reshape((len(X_grid), 1))\n",
    "plt.scatter(X, y, color = 'red')\n",
    "plt.plot(X_grid, lin_model4.predict(poly_model4.fit_transform(X_grid)), color = 'blue')\n",
    "plt.title('Truth or Bluff (Polynomial Regression)')\n",
    "plt.xlabel('Position level')\n",
    "plt.ylabel('Salary')\n",
    "plt.show()"
   ]
  },
  {
   "cell_type": "code",
   "execution_count": 30,
   "metadata": {
    "execution": {
     "iopub.execute_input": "2021-11-15T06:04:00.635757Z",
     "iopub.status.busy": "2021-11-15T06:04:00.635437Z",
     "iopub.status.idle": "2021-11-15T06:04:00.648670Z",
     "shell.execute_reply": "2021-11-15T06:04:00.647260Z",
     "shell.execute_reply.started": "2021-11-15T06:04:00.635724Z"
    }
   },
   "outputs": [
    {
     "name": "stdout",
     "output_type": "stream",
     "text": [
      "Predicted value :  [45190.55944199 49086.82983877]\n",
      "RMSE value :  2018.7783931047315\n",
      "R2 value :  0.9999494749253776\n"
     ]
    }
   ],
   "source": [
    "# Increaseing  degree \n",
    "\n",
    "# fitting Polynomial Rgression to the training set \n",
    "\n",
    "from sklearn.preprocessing import PolynomialFeatures\n",
    "\n",
    "poly_model5 = PolynomialFeatures(degree=6)\n",
    "X_poly5 = poly_model5.fit_transform(X)\n",
    "\n",
    "# for polynomial regression we need to  fit with linear regression once again\n",
    "lin_model5 = LinearRegression()\n",
    "lin_model5.fit(X_poly5, y)\n",
    "\n",
    "\n",
    "y_poly_pred5 = lin_model5.predict(X_poly5)\n",
    "y_poly_pred5\n",
    "\n",
    "\n",
    "from sklearn.metrics import mean_squared_error, r2_score\n",
    "mse5 = mean_squared_error(y, y_poly_pred5)\n",
    "rmse5 = np.sqrt(mse5)\n",
    "r25 = r2_score(y, y_poly_pred5)\n",
    "\n",
    "print(\"Predicted value : \",y_poly_pred5[:2] )\n",
    "print(\"RMSE value : \", rmse5)\n",
    "print(\"R2 value : \", r25)"
   ]
  },
  {
   "cell_type": "code",
   "execution_count": 31,
   "metadata": {
    "execution": {
     "iopub.execute_input": "2021-11-15T06:04:38.115467Z",
     "iopub.status.busy": "2021-11-15T06:04:38.114865Z",
     "iopub.status.idle": "2021-11-15T06:04:38.271853Z",
     "shell.execute_reply": "2021-11-15T06:04:38.271085Z",
     "shell.execute_reply.started": "2021-11-15T06:04:38.115430Z"
    }
   },
   "outputs": [
    {
     "data": {
      "image/png": "[encoded data removed]",
      "text/plain": [
       "<Figure size 432x288 with 1 Axes>"
      ]
     },
     "metadata": {
      "needs_background": "light"
     },
     "output_type": "display_data"
    }
   ],
   "source": [
    "X_grid = np.arange(min(X), max(X), 0.1)\n",
    "X_grid = X_grid.reshape((len(X_grid), 1))\n",
    "plt.scatter(X, y, color = 'red')\n",
    "plt.plot(X_grid, lin_model5.predict(poly_model5.fit_transform(X_grid)), color = 'blue')\n",
    "plt.title('Truth or Bluff (Polynomial Regression)')\n",
    "plt.xlabel('Position level')\n",
    "plt.ylabel('Salary')\n",
    "plt.show()"
   ]
  },
  {
   "cell_type": "code",
   "execution_count": 32,
   "metadata": {
    "execution": {
     "iopub.execute_input": "2021-11-15T06:06:05.215437Z",
     "iopub.status.busy": "2021-11-15T06:06:05.215140Z",
     "iopub.status.idle": "2021-11-15T06:06:05.229694Z",
     "shell.execute_reply": "2021-11-15T06:06:05.228735Z",
     "shell.execute_reply.started": "2021-11-15T06:06:05.215407Z"
    }
   },
   "outputs": [
    {
     "name": "stdout",
     "output_type": "stream",
     "text": [
      "Predicted value :  [45190.55944199 49086.82983877]\n",
      "RMSE value :  2018.7783931047315\n",
      "R2 value :  0.9999494749253776\n"
     ]
    }
   ],
   "source": [
    "# Increaseing  degree \n",
    "\n",
    "# fitting Polynomial Rgression to the training set \n",
    "\n",
    "from sklearn.preprocessing import PolynomialFeatures\n",
    "\n",
    "poly_model6 = PolynomialFeatures(degree=6)\n",
    "X_poly6 = poly_model6.fit_transform(X)\n",
    "\n",
    "# for polynomial regression we need to  fit with linear regression once again\n",
    "lin_model6 = LinearRegression()\n",
    "lin_model6.fit(X_poly6, y)\n",
    "\n",
    "\n",
    "y_poly_pred6 = lin_model6.predict(X_poly6)\n",
    "y_poly_pred6\n",
    "\n",
    "\n",
    "from sklearn.metrics import mean_squared_error, r2_score\n",
    "mse6 = mean_squared_error(y, y_poly_pred6)\n",
    "rmse6 = np.sqrt(mse6)\n",
    "r26 = r2_score(y, y_poly_pred6)\n",
    "\n",
    "print(\"Predicted value : \",y_poly_pred6[:2] )\n",
    "print(\"RMSE value : \", rmse6)\n",
    "print(\"R2 value : \", r26)"
   ]
  },
  {
   "cell_type": "code",
   "execution_count": 33,
   "metadata": {
    "execution": {
     "iopub.execute_input": "2021-11-15T06:06:26.815648Z",
     "iopub.status.busy": "2021-11-15T06:06:26.814991Z",
     "iopub.status.idle": "2021-11-15T06:06:26.982052Z",
     "shell.execute_reply": "2021-11-15T06:06:26.980482Z",
     "shell.execute_reply.started": "2021-11-15T06:06:26.815608Z"
    }
   },
   "outputs": [
    {
     "data": {
      "image/png": "[encoded data removed]",
      "text/plain": [
       "<Figure size 432x288 with 1 Axes>"
      ]
     },
     "metadata": {
      "needs_background": "light"
     },
     "output_type": "display_data"
    }
   ],
   "source": [
    "X_grid = np.arange(min(X), max(X), 0.1)\n",
    "X_grid = X_grid.reshape((len(X_grid), 1))\n",
    "plt.scatter(X, y, color = 'red')\n",
    "plt.plot(X_grid, lin_model6.predict(poly_model6.fit_transform(X_grid)), color = 'blue')\n",
    "plt.title('Truth or Bluff (Polynomial Regression)')\n",
    "plt.xlabel('Position level')\n",
    "plt.ylabel('Salary')\n",
    "plt.show()"
   ]
  },
  {
   "cell_type": "code",
   "execution_count": null,
   "metadata": {},
   "outputs": [],
   "source": []
  }
 ],
 "metadata": {
  "kernelspec": {
   "display_name": "Python 3 (ipykernel)",
   "language": "python",
   "name": "python3"
  },
  "language_info": {
   "codemirror_mode": {
    "name": "ipython",
    "version": 3
   },
   "file_extension": ".py",
   "mimetype": "text/x-python",
   "name": "python",
   "nbconvert_exporter": "python",
   "pygments_lexer": "ipython3",
   "version": "3.7.8"
  }
 },
 "nbformat": 4,
 "nbformat_minor": 4
}
